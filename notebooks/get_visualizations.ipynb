{
 "cells": [
  {
   "cell_type": "code",
   "id": "initial_id",
   "metadata": {
    "collapsed": true
   },
   "source": [
    "from Application.DbAPI import *\n",
    "import json\n",
    "import plotly.express as px"
   ],
   "outputs": [],
   "execution_count": null
  },
  {
   "metadata": {},
   "cell_type": "code",
   "source": [
    "continents_geo = json.load(open(\"..\\\\Data\\\\GeoJson\\\\continents.geojson\"))\n",
    "for feature in continents_geo[\"features\"]:\n",
    "    feature[\"id\"] = feature[\"properties\"][\"CONTINENT\"]\n",
    "\n",
    "countries_geo = json.load(open(\"..\\\\Data\\\\GeoJson\\\\countries.json\"))\n",
    "for feature in countries_geo[\"features\"]:\n",
    "    feature[\"id\"] = feature[\"properties\"][\"ISO_A3\"]\n",
    "\n",
    "energy_df = get_2023_energy_security_df()\n",
    "energy_predictions_df = get_energy_predictions_df(energy_prediction_years[-1])\n",
    "food_df = get_food_insecurity_df(food_security_years[-1])\n",
    "water_df = get_water_security_df(water_security_years[-1])"
   ],
   "id": "85bbd8f9c04d14f5",
   "outputs": [],
   "execution_count": null
  },
  {
   "metadata": {},
   "cell_type": "code",
   "source": [
    "fig = px.choropleth(energy_predictions_df,\n",
    "                    locations='id',\n",
    "                    geojson=continents_geo,\n",
    "                    color=\"ej_value\",\n",
    "                    scope=\"world\",\n",
    "                    color_continuous_scale=\"Electric\",\n",
    "                    title=f\"Energy Security Predictions of {energy_prediction_years[-1]}\",\n",
    "                    range_color=(0, 100),\n",
    "                    hover_name=\"id\"\n",
    "                    )\n",
    "\n",
    "fig.update_layout(\n",
    "    coloraxis_colorbar=dict(\n",
    "        title=\"EJ Output\",  # Custom title for the color bar\n",
    "        title_side=\"top\",  # Position of the title (default is 'right')\n",
    "    ),\n",
    "    geo=dict(\n",
    "        bgcolor=\"lightblue\",  # Change ocean/background color\n",
    "    ),\n",
    "    paper_bgcolor=\"white\"  # Set background outside the map\n",
    ")\n",
    "\n",
    "fig.show()"
   ],
   "id": "c65385b39e59c12d",
   "outputs": [],
   "execution_count": null
  },
  {
   "metadata": {},
   "cell_type": "code",
   "source": [
    "fig = px.choropleth(energy_df,\n",
    "                    locations='id',\n",
    "                    geojson=countries_geo,\n",
    "                    color=\"percent_no_electricity\",\n",
    "                    scope=\"world\",\n",
    "                    color_continuous_scale=\"Electric_r\",\n",
    "                    title=\"Energy Security Of 2023\",\n",
    "                    range_color=(0, 100),\n",
    "                    hover_name=\"country\"\n",
    "                    )\n",
    "\n",
    "fig.update_layout(\n",
    "    coloraxis_colorbar=dict(\n",
    "        title=\"Percent of People With No Access to Electricity\",  # Custom title for the color bar\n",
    "        title_side=\"top\",  # Position of the title (default is 'right')\n",
    "    ),\n",
    "    geo=dict(bgcolor=\"lightblue\"),  # Ocean/background color,\n",
    "    paper_bgcolor=\"white\"  # Set background outside the map\n",
    ")\n",
    "\n",
    "fig.show()"
   ],
   "id": "f1306ef7b684daad",
   "outputs": [],
   "execution_count": null
  },
  {
   "metadata": {},
   "cell_type": "code",
   "source": [
    "fig = px.choropleth(food_df,\n",
    "                    locations='id',\n",
    "                    geojson=countries_geo,\n",
    "                    color=\"value\",\n",
    "                    scope=\"world\",\n",
    "                    color_continuous_scale=\"YlOrRd\",\n",
    "                    title=f\"Food Security of {food_security_years[-1]}\",\n",
    "                    hover_name=\"country\",\n",
    "                    range_color=(0, 40)\n",
    "                    )\n",
    "\n",
    "fig.update_layout(\n",
    "    coloraxis_colorbar=dict(\n",
    "        title=\"Percent of households experiencing serve food insecurity\",  # Custom title for the color bar\n",
    "        title_side=\"top\",  # Position of the title (default is 'right')\n",
    "    ),\n",
    "    paper_bgcolor=\"white\",  # Set background outside the map\n",
    "    geo=dict(bgcolor=\"lightblue\"),  # Ocean/background color,\n",
    ")\n",
    "fig.show()"
   ],
   "id": "2b185a524940958b",
   "outputs": [],
   "execution_count": null
  },
  {
   "metadata": {},
   "cell_type": "code",
   "source": [
    "fig = px.choropleth(water_df,\n",
    "                    locations='id',\n",
    "                    geojson=countries_geo,\n",
    "                    color=\"water_per_capita\",\n",
    "                    scope=\"world\",\n",
    "                    color_continuous_scale=\"blues\",\n",
    "                    title=f\"Water Security of {water_security_years[-1]}\",\n",
    "                    range_color=(0, 100000),\n",
    "                    hover_name=\"country\"\n",
    "                    )\n",
    "\n",
    "fig.update_layout(\n",
    "    coloraxis_colorbar=dict(\n",
    "        title=\"Water Per Capita\",  # Custom title for the color bar\n",
    "        title_side=\"top\",  # Position of the title (default is 'right')\n",
    "    ),\n",
    "    geo=dict(bgcolor=\"lightblue\"),  # Ocean/background color,\n",
    "    paper_bgcolor=\"white\"\n",
    ")\n",
    "fig.show()"
   ],
   "id": "640fd318c0c39959",
   "outputs": [],
   "execution_count": null
  },
  {
   "metadata": {},
   "cell_type": "code",
   "source": "",
   "id": "30228ed6d7770690",
   "outputs": [],
   "execution_count": null
  }
 ],
 "metadata": {
  "kernelspec": {
   "display_name": "Python 3",
   "language": "python",
   "name": "python3"
  },
  "language_info": {
   "codemirror_mode": {
    "name": "ipython",
    "version": 2
   },
   "file_extension": ".py",
   "mimetype": "text/x-python",
   "name": "python",
   "nbconvert_exporter": "python",
   "pygments_lexer": "ipython2",
   "version": "2.7.6"
  }
 },
 "nbformat": 4,
 "nbformat_minor": 5
}
