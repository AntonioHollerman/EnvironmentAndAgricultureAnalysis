{
 "cells": [
  {
   "cell_type": "code",
   "id": "initial_id",
   "metadata": {
    "collapsed": true
   },
   "source": [
    "from sqlite3 import connect\n",
    "import numpy as np\n",
    "import pandas as pd\n",
    "from numpy.ma.extras import average\n",
    "from Application.DbAPI import iso3_dict"
   ],
   "outputs": [],
   "execution_count": null
  },
  {
   "metadata": {},
   "cell_type": "code",
   "source": [
    "conn = connect(\"..\\\\Data\\\\EnvironmentData.db\")\n",
    "cur = conn.cursor()"
   ],
   "id": "939afbf0b9f2dbc3",
   "outputs": [],
   "execution_count": null
  },
  {
   "metadata": {},
   "cell_type": "code",
   "source": [
    "food_df = pd.read_csv(\"..\\\\Data\\\\FoodSecurity\\\\WFSO_july_2024.csv\")\n",
    "food_df"
   ],
   "id": "505c94251478dd11",
   "outputs": [],
   "execution_count": null
  },
  {
   "metadata": {
    "SqlCellData": {
     "data_source_name": "EnvironmentData.db",
     "variableName$1": "df_sql"
    }
   },
   "cell_type": "code",
   "source": [
    "%%sql\n",
    "CREATE TABLE food_insecurity(\n",
    "    year INT,\n",
    "    iso3c TEXT,\n",
    "    country TEXT,\n",
    "    indicator TEXT,\n",
    "    value REAL\n",
    ");"
   ],
   "id": "4557417c68b0f8ce",
   "outputs": [],
   "execution_count": null
  },
  {
   "metadata": {},
   "cell_type": "code",
   "source": [
    "for index, row in food_df.iterrows():\n",
    "    cur.execute(\"INSERT INTO food_insecurity (year, iso3c, country, indicator, value) VALUES (?, ?, ?, ?, ?)\",\n",
    "                (row[\"year\"], row[\"iso3c\"], row[\"country\"], row[\"indicator_short\"], row[\"value\"]))\n",
    "conn.commit()"
   ],
   "id": "13ad90f99f4e88c4",
   "outputs": [],
   "execution_count": null
  },
  {
   "metadata": {
    "SqlCellData": {
     "data_source_name": "EnvironmentData.db",
     "variableName$1": "df_sql1"
    }
   },
   "cell_type": "code",
   "source": [
    "%%sql\n",
    "SELECT * FROM food_insecurity;"
   ],
   "id": "71f2e317c6ef0420",
   "outputs": [],
   "execution_count": null
  },
  {
   "metadata": {},
   "cell_type": "code",
   "source": [
    "water_df = pd.read_csv(\"..\\\\Data\\\\WaterSecurity\\\\water-data.csv\")\n",
    "water_df"
   ],
   "id": "9c7d15060ce3a2d",
   "outputs": [],
   "execution_count": null
  },
  {
   "metadata": {},
   "cell_type": "code",
   "source": [
    "water_df.columns = water_df.iloc[1]\n",
    "water_df.drop(index=[0, 1], inplace=True)\n",
    "water_df.reset_index(inplace=True)\n",
    "water_df.drop(columns=[\"index\"], inplace=True)\n",
    "water_df"
   ],
   "id": "f405b7b35db5c318",
   "outputs": [],
   "execution_count": null
  },
  {
   "metadata": {},
   "cell_type": "code",
   "source": [
    "data = []\n",
    "years = water_df.columns[4:]\n",
    "\n",
    "for index, row in water_df.iterrows():\n",
    "    for year in years:\n",
    "        data.append({\"country\": row[\"Country Name\"], \n",
    "                     \"water_per_capita\": row[year], \n",
    "                     \"iso3c\": row[\"Country Code\"], \n",
    "                     \"year\": int(year)})\n",
    "normalized_df = pd.DataFrame(data).dropna()\n",
    "normalized_df"
   ],
   "id": "f41fea1ef0c55c94",
   "outputs": [],
   "execution_count": null
  },
  {
   "metadata": {
    "SqlCellData": {
     "data_source_name": "EnvironmentData.db",
     "variableName$1": "df_sql2"
    }
   },
   "cell_type": "code",
   "source": [
    "%%sql\n",
    "CREATE TABLE water_security(\n",
    "    country TEXT,\n",
    "    water_per_capita REAL,\n",
    "    iso3c TEXT,\n",
    "    year INT\n",
    ");"
   ],
   "id": "33a9ede182f899a4",
   "outputs": [],
   "execution_count": null
  },
  {
   "metadata": {},
   "cell_type": "code",
   "source": [
    "for index, row in normalized_df.iterrows():\n",
    "    cur.execute(\"INSERT INTO water_security(country, water_per_capita, iso3c, year) VALUES (?, ?, ?, ?)\", \n",
    "                (row[\"country\"], row[\"water_per_capita\"], row[\"iso3c\"], row[\"year\"]))\n",
    "conn.commit()"
   ],
   "id": "d66dc4172c7cdacf",
   "outputs": [],
   "execution_count": null
  },
  {
   "metadata": {
    "SqlCellData": {
     "data_source_name": "EnvironmentData.db",
     "variableName$1": "df_sql3"
    }
   },
   "cell_type": "code",
   "source": [
    "%%sql\n",
    "SELECT * FROM water_security"
   ],
   "id": "297e7a224a16956d",
   "outputs": [],
   "execution_count": null
  },
  {
   "metadata": {},
   "cell_type": "code",
   "source": [
    "energy_pred_df = pd.read_csv(\"..\\\\Data\\\\EnergySecurity\\\\WEO2024_AnnexA_Free_Dataset_Regions.csv\")\n",
    "energy_pred_df[\"UNIT\"].unique()"
   ],
   "id": "a766fdac42637184",
   "outputs": [],
   "execution_count": null
  },
  {
   "metadata": {
    "SqlCellData": {
     "data_source_name": "EnvironmentData.db",
     "variableName$1": "df_sql4"
    }
   },
   "cell_type": "code",
   "source": [
    "%%sql\n",
    "CREATE TABLE energy_security_predictions(\n",
    "    year INT,\n",
    "    continent TEXT,\n",
    "    ej_value REAL\n",
    ");"
   ],
   "id": "f04d0d91b1c44e65",
   "outputs": [],
   "execution_count": null
  },
  {
   "metadata": {},
   "cell_type": "code",
   "source": [
    "conversion_factors = {\n",
    "    'EJ': 1,                              # Already in EJ\n",
    "    'Million barrels per day': 0.000611714,  # For crude oil\n",
    "    'Percentage': None,                   # Cannot convert percentages to EJ\n",
    "    'Billion cubic metres': 0.0382,       # For natural gas\n",
    "    'Million tonnes of coal equivalent': 0.0293076,  # Mtce\n",
    "    'TWh': 0.0036,                        # Terawatt-hours\n",
    "    'PJ': 0.001,                          # Petajoules\n",
    "    'Million tonnes': None,               # Requires specific fuel/material for conversion\n",
    "    'Mt CO2': None                        # Requires emission factor for conversion\n",
    "}\n",
    "\n",
    "regions_to_drop = [\"World\", \"European Union\", \"Eurasia\", \"Asia Pacific\"]\n",
    "\n",
    "# Function to convert to EJ\n",
    "def convert_to_ej(value, unit):\n",
    "    if unit in conversion_factors:\n",
    "        if unit == 'Mt CO2':\n",
    "            emission_factor = average([94.6, 73.3, 56.1])\n",
    "            return (value * 1e6 / emission_factor) * 1e-9  # Convert Mt CO2 to EJ\n",
    "        elif unit == 'Million tonnes':  # Requires specific material\n",
    "            energy_content = average([24, 42, 54])\n",
    "            return (value * energy_content) * 1e-9  # Convert GJ to EJ\n",
    "        else:  # Handle standard unit conversions\n",
    "            return value * conversion_factors[unit]\n",
    "    else:\n",
    "        print(unit)\n",
    "        return None  # Unknown unit\n",
    "\n",
    "energy_pred_df = energy_pred_df[(energy_pred_df[\"PRODUCT\"] == \"Total\") & \n",
    "                                (energy_pred_df[\"FLOW\"] == \"Total energy supply\") & \n",
    "                                (~energy_pred_df[\"REGION\"].isin(iso3_dict)) &\n",
    "                                (~energy_pred_df[\"REGION\"].isin(regions_to_drop))]\n",
    "energy_pred_df['VALUE_IN_EJ'] = energy_pred_df.apply(\n",
    "    lambda r: convert_to_ej(r['VALUE'], r['UNIT']),\n",
    "    axis=1\n",
    ")\n",
    "\n",
    "energy_pred_df = energy_pred_df.groupby([\"REGION\", \"YEAR\"], as_index=False)[\"VALUE_IN_EJ\"].sum()\n",
    "energy_pred_df[\"REGION\"] = energy_pred_df[\"REGION\"].apply(lambda x : \"South America\" if x == \"Central and South America\" else x)\n",
    "energy_pred_df"
   ],
   "id": "70b97a63e4166ef8",
   "outputs": [],
   "execution_count": null
  },
  {
   "metadata": {},
   "cell_type": "code",
   "source": [
    "for index, row in energy_pred_df.iterrows():\n",
    "    cur.execute(\"INSERT INTO energy_security_predictions(year, continent, ej_value) VALUES (?, ?, ?)\", (row[\"YEAR\"], row[\"REGION\"], row[\"VALUE_IN_EJ\"]))\n",
    "conn.commit()"
   ],
   "id": "6b0b89f7a3ae1aba",
   "outputs": [],
   "execution_count": null
  },
  {
   "metadata": {
    "SqlCellData": {
     "data_source_name": "EnvironmentData.db",
     "variableName$1": "df_sql5"
    }
   },
   "cell_type": "code",
   "source": [
    "%%sql\n",
    "SELECT * FROM energy_security_predictions;"
   ],
   "id": "727bfb53a90c6340",
   "outputs": [],
   "execution_count": null
  },
  {
   "metadata": {},
   "cell_type": "code",
   "source": [
    "energy_df = pd.read_csv(\"..\\\\Data\\\\EnergySecurity\\\\sdgi-7-1-1-access-electricity-2023-national.csv\")\n",
    "energy_df.replace(-9999.0, np.nan, inplace=True)\n",
    "energy_df"
   ],
   "id": "dd97e8adadc10e53",
   "outputs": [],
   "execution_count": null
  },
  {
   "metadata": {
    "SqlCellData": {
     "data_source_name": "EnvironmentData.db",
     "variableName$1": "df_sql6"
    }
   },
   "cell_type": "code",
   "source": [
    "%%sql\n",
    "CREATE TABLE energy_security(\n",
    "    country TEXT,\n",
    "    percent_no_electricity REAL,\n",
    "    iso3c TEXT\n",
    ")"
   ],
   "id": "283ae0a03e077c6b",
   "outputs": [],
   "execution_count": null
  },
  {
   "metadata": {},
   "cell_type": "code",
   "source": [
    "energy_df = energy_df[pd.notnull(energy_df[\"NAME_0\"]) & pd.notnull(energy_df[\"SDG711pct\"])]\n",
    "for index, row in energy_df.iterrows():\n",
    "    cur.execute(\"INSERT INTO energy_security(country, percent_no_electricity, iso3c) VALUES (?, ?, ?)\", (row[\"NAME_0\"], row[\"SDG711pct\"], row[\"ISO3\"]))\n",
    "conn.commit()"
   ],
   "id": "8280d1f951ac8639",
   "outputs": [],
   "execution_count": null
  },
  {
   "metadata": {
    "SqlCellData": {
     "data_source_name": "EnvironmentData.db",
     "variableName$1": "df_sql7"
    }
   },
   "cell_type": "code",
   "source": [
    "%%sql\n",
    "SELECT * FROM energy_security"
   ],
   "id": "1db7b3878f33beaa",
   "outputs": [],
   "execution_count": null
  },
  {
   "metadata": {},
   "cell_type": "code",
   "source": "",
   "id": "1445aa384b177664",
   "outputs": [],
   "execution_count": null
  }
 ],
 "metadata": {
  "kernelspec": {
   "display_name": "Python 3",
   "language": "python",
   "name": "python3"
  },
  "language_info": {
   "codemirror_mode": {
    "name": "ipython",
    "version": 2
   },
   "file_extension": ".py",
   "mimetype": "text/x-python",
   "name": "python",
   "nbconvert_exporter": "python",
   "pygments_lexer": "ipython2",
   "version": "2.7.6"
  }
 },
 "nbformat": 4,
 "nbformat_minor": 5
}
